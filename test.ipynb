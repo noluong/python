{
 "cells": [
  {
   "cell_type": "code",
   "execution_count": 14,
   "metadata": {},
   "outputs": [
    {
     "name": "stdout",
     "output_type": "stream",
     "text": [
      "Setting auto formatting on notebook\n",
      "On vscode > Press Ctrl Shift P for open setting json\n",
      "Add 2 lines\n",
      "  \"notebook.formatOnCellExecution\": true,\n",
      "  \"notebook.formatOnSave.enabled\": true,\n",
      "\n",
      "OR Open setting UI > Find format notebook\n",
      "Checked 2 checkbox format on cell & format on save\n",
      "\n"
     ]
    }
   ],
   "source": [
    "msg = '''Setting auto formatting on notebook\n",
    "On vscode > Press Ctrl Shift P for open setting json\n",
    "Add 2 lines\n",
    "  \"notebook.formatOnCellExecution\": true,\n",
    "  \"notebook.formatOnSave.enabled\": true,\n",
    "\n",
    "OR Open setting UI > Find format notebook\n",
    "Checked 2 checkbox format on cell & format on save\n",
    "'''\n",
    "print(msg)\n"
   ]
  },
  {
   "cell_type": "code",
   "execution_count": 15,
   "metadata": {},
   "outputs": [
    {
     "name": "stdout",
     "output_type": "stream",
     "text": [
      "Hello world 2\n"
     ]
    }
   ],
   "source": [
    "msg = \"Hello world 2\"\n",
    "print(msg)\n"
   ]
  },
  {
   "cell_type": "code",
   "execution_count": 16,
   "metadata": {},
   "outputs": [
    {
     "name": "stdout",
     "output_type": "stream",
     "text": [
      "Hello world 3\n"
     ]
    }
   ],
   "source": [
    "msg = \"Hello world 3\"\n",
    "\n",
    "print(msg)\n"
   ]
  }
 ],
 "metadata": {
  "kernelspec": {
   "display_name": "Python 3",
   "language": "python",
   "name": "python3"
  },
  "language_info": {
   "codemirror_mode": {
    "name": "ipython",
    "version": 3
   },
   "file_extension": ".py",
   "mimetype": "text/x-python",
   "name": "python",
   "nbconvert_exporter": "python",
   "pygments_lexer": "ipython3",
   "version": "3.10.5"
  }
 },
 "nbformat": 4,
 "nbformat_minor": 2
}
